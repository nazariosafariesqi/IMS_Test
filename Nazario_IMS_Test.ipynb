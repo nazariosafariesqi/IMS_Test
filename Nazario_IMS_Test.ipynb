{
  "nbformat": 4,
  "nbformat_minor": 0,
  "metadata": {
    "colab": {
      "provenance": [],
      "authorship_tag": "ABX9TyPBGz9QTVVwwMvInO/HN5bt",
      "include_colab_link": true
    },
    "kernelspec": {
      "name": "python3",
      "display_name": "Python 3"
    },
    "language_info": {
      "name": "python"
    }
  },
  "cells": [
    {
      "cell_type": "markdown",
      "metadata": {
        "id": "view-in-github",
        "colab_type": "text"
      },
      "source": [
        "<a href=\"https://colab.research.google.com/github/nazariosafariesqi/IMS_Test/blob/main/Nazario_IMS_Test.ipynb\" target=\"_parent\"><img src=\"https://colab.research.google.com/assets/colab-badge.svg\" alt=\"Open In Colab\"/></a>"
      ]
    },
    {
      "cell_type": "code",
      "execution_count": null,
      "metadata": {
        "colab": {
          "base_uri": "https://localhost:8080/"
        },
        "id": "u0loDLm5SO02",
        "outputId": "ca3339ee-38d1-43a4-f5b7-33381a560438"
      },
      "outputs": [
        {
          "output_type": "stream",
          "name": "stdout",
          "text": [
            "Masukkan lama cicilan (dalam bulan): 18\n",
            "\n",
            "=== Hasil Simulasi Angsuran ===\n",
            "DP: Rp 48,000,000\n",
            "Bunga: 14%\n",
            "Total yang dicicil: Rp 218,880,000\n",
            "Angsuran per bulan: Rp 12,160,000\n"
          ]
        }
      ],
      "source": [
        "# Deklarasi terlebih dahulu variabelnya\n",
        "harga_mobil = 240_000_000  # Harga mobil dalam rupiah\n",
        "dp_persen = 20             # Persentase DP\n",
        "\n",
        "# Input dari pengguna\n",
        "lama_cicilan = int(input(\"Masukkan lama cicilan (dalam bulan): \"))\n",
        "\n",
        "# Rumus hitung DP dan sisa cicilan\n",
        "dp = (dp_persen / 100) * harga_mobil\n",
        "sisa_pembayaran = harga_mobil - dp\n",
        "\n",
        "# Menentukan bunga\n",
        "if lama_cicilan <= 12:\n",
        "    bunga_persen = 12\n",
        "elif lama_cicilan > 12 and lama_cicilan <= 24:\n",
        "    bunga_persen = 14\n",
        "else:\n",
        "    bunga_persen = 16.5\n",
        "\n",
        "# Hitung total bunga dan angsuran bulanan\n",
        "bunga_total = (bunga_persen / 100) * sisa_pembayaran\n",
        "total_pembayaran = sisa_pembayaran + bunga_total\n",
        "angsuran_bulanan = total_pembayaran / lama_cicilan\n",
        "\n",
        "# Tampilkan hasil\n",
        "print(\"\\n=== Hasil Simulasi Angsuran ===\")\n",
        "print(f\"DP: Rp {dp:,.0f}\")\n",
        "print(f\"Bunga: {bunga_persen}%\")\n",
        "print(f\"Total yang dicicil: Rp {total_pembayaran:,.0f}\")\n",
        "print(f\"Angsuran per bulan: Rp {angsuran_bulanan:,.0f}\")\n"
      ]
    }
  ]
}